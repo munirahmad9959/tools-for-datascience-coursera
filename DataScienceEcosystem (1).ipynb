{
  "cells": [
    {
      "cell_type": "markdown",
      "id": "d5bc7a0c",
      "metadata": {
        "id": "d5bc7a0c"
      },
      "source": [
        "# Data Science Tools and Ecosystem"
      ]
    },
    {
      "cell_type": "markdown",
      "id": "dc4927b5",
      "metadata": {
        "id": "dc4927b5"
      },
      "source": [
        "In this notebook, Data Science Tools and Ecosystem are summarized."
      ]
    },
    {
      "cell_type": "markdown",
      "id": "e2707a04",
      "metadata": {
        "id": "e2707a04"
      },
      "source": [
        "Some of the popular languages that Data Scientists use are:\n",
        "1. Python  \n",
        "2. R  \n",
        "3. SQL  \n",
        "4. Scala  \n",
        "5. Julia"
      ]
    },
    {
      "cell_type": "markdown",
      "id": "6b571894",
      "metadata": {
        "id": "6b571894"
      },
      "source": [
        "Some of the commonly used libraries used by Data Scientists include:\n",
        "1. Pandas  \n",
        "2. NumPy  \n",
        "3. Matplotlib  \n",
        "4. Scikit-learn  \n",
        "5. TensorFlow"
      ]
    },
    {
      "cell_type": "markdown",
      "id": "8f837e14",
      "metadata": {
        "id": "8f837e14"
      },
      "source": [
        "| Data Science Tools         |\n",
        "|---------------------------|\n",
        "| Jupyter Notebook          |\n",
        "| RStudio                   |\n",
        "| Apache Zeppelin           |"
      ]
    },
    {
      "cell_type": "markdown",
      "id": "a6c0ebe6",
      "metadata": {
        "id": "a6c0ebe6"
      },
      "source": [
        "### Below are a few examples of evaluating arithmetic expressions in Python."
      ]
    },
    {
      "cell_type": "code",
      "execution_count": null,
      "id": "5e8e6315",
      "metadata": {
        "id": "5e8e6315"
      },
      "outputs": [],
      "source": [
        "# This a simple arithmetic expression to multiply then add integers\n",
        "(3*4)+5"
      ]
    },
    {
      "cell_type": "code",
      "execution_count": null,
      "id": "88046314",
      "metadata": {
        "id": "88046314"
      },
      "outputs": [],
      "source": [
        "# This will convert 200 minutes to hours by dividing by 60\n",
        "200 / 60"
      ]
    },
    {
      "cell_type": "markdown",
      "id": "1e40609a",
      "metadata": {
        "id": "1e40609a"
      },
      "source": [
        "**Objectives:**\n",
        "- List popular languages for Data Science\n",
        "- List commonly used libraries by Data Scientists\n",
        "- Create tables and lists using markdown\n",
        "- Evaluate arithmetic expressions in Python\n",
        "- Convert minutes to hours using Python code"
      ]
    },
    {
      "cell_type": "markdown",
      "id": "5bd8babf",
      "metadata": {
        "id": "5bd8babf"
      },
      "source": [
        "## Author  \n",
        "Munir Ahmad"
      ]
    },
    {
      "cell_type": "code",
      "source": [],
      "metadata": {
        "id": "tMXYwGnlavmZ"
      },
      "id": "tMXYwGnlavmZ",
      "execution_count": null,
      "outputs": []
    }
  ],
  "metadata": {
    "colab": {
      "provenance": []
    }
  },
  "nbformat": 4,
  "nbformat_minor": 5
}